{
  "nbformat": 4,
  "nbformat_minor": 0,
  "metadata": {
    "colab": {
      "name": "dlnd_tv_script_generation.ipynb",
      "version": "0.3.2",
      "provenance": [],
      "collapsed_sections": [],
      "toc_visible": true
    },
    "kernelspec": {
      "name": "python3",
      "display_name": "Python 3"
    },
    "accelerator": "GPU"
  },
  "cells": [
    {
      "metadata": {
        "id": "w0Td5EU9iqCg",
        "colab_type": "text"
      },
      "cell_type": "markdown",
      "source": [
        "# TV Script Generation\n",
        "In this project, you'll generate your own [Simpsons](https://en.wikipedia.org/wiki/The_Simpsons) TV scripts using RNNs.  You'll be using part of the [Simpsons dataset](https://www.kaggle.com/wcukierski/the-simpsons-by-the-data) of scripts from 27 seasons.  The Neural Network you'll build will generate a new TV script for a scene at [Moe's Tavern](https://simpsonswiki.com/wiki/Moe's_Tavern).\n",
        "## Get the Data\n",
        "The data is already provided for you.  You'll be using a subset of the original dataset.  It consists of only the scenes in Moe's Tavern.  This doesn't include other versions of the tavern, like \"Moe's Cavern\", \"Flaming Moe's\", \"Uncle Moe's Family Feed-Bag\", etc.."
      ]
    },
    {
      "metadata": {
        "id": "ElJNTgEKiqCp",
        "colab_type": "code",
        "colab": {}
      },
      "cell_type": "code",
      "source": [
        "\"\"\"\n",
        "DON'T MODIFY ANYTHING IN THIS CELL\n",
        "\"\"\"\n",
        "import helper\n",
        "\n",
        "data_dir = './moes_tavern_lines.txt'\n",
        "text = helper.load_data(data_dir)\n",
        "# Ignore notice, since we don't use it for analysing the data\n",
        "text = text[81:]"
      ],
      "execution_count": 0,
      "outputs": []
    },
    {
      "metadata": {
        "id": "hn1lJBLpiqC3",
        "colab_type": "text"
      },
      "cell_type": "markdown",
      "source": [
        "## Explore the Data\n",
        "Play around with `view_sentence_range` to view different parts of the data."
      ]
    },
    {
      "metadata": {
        "id": "NTLbZVHziqC7",
        "colab_type": "code",
        "colab": {
          "base_uri": "https://localhost:8080/",
          "height": 343
        },
        "outputId": "1e5a4209-916e-4de7-8d43-762b9c88fbb9"
      },
      "cell_type": "code",
      "source": [
        "view_sentence_range = (0, 10)\n",
        "\n",
        "\"\"\"\n",
        "DON'T MODIFY ANYTHING IN THIS CELL\n",
        "\"\"\"\n",
        "import numpy as np\n",
        "\n",
        "print('Dataset Stats')\n",
        "print('Roughly the number of unique words: {}'.format(len({word: None for word in text.split()})))\n",
        "scenes = text.split('\\n\\n')\n",
        "print('Number of scenes: {}'.format(len(scenes)))\n",
        "sentence_count_scene = [scene.count('\\n') for scene in scenes]\n",
        "print('Average number of sentences in each scene: {}'.format(np.average(sentence_count_scene)))\n",
        "\n",
        "sentences = [sentence for scene in scenes for sentence in scene.split('\\n')]\n",
        "print('Number of lines: {}'.format(len(sentences)))\n",
        "word_count_sentence = [len(sentence.split()) for sentence in sentences]\n",
        "print('Average number of words in each line: {}'.format(np.average(word_count_sentence)))\n",
        "\n",
        "print()\n",
        "print('The sentences {} to {}:'.format(*view_sentence_range))\n",
        "print('\\n'.join(text.split('\\n')[view_sentence_range[0]:view_sentence_range[1]]))"
      ],
      "execution_count": 2,
      "outputs": [
        {
          "output_type": "stream",
          "text": [
            "Dataset Stats\n",
            "Roughly the number of unique words: 11492\n",
            "Number of scenes: 262\n",
            "Average number of sentences in each scene: 15.248091603053435\n",
            "Number of lines: 4257\n",
            "Average number of words in each line: 11.50434578341555\n",
            "\n",
            "The sentences 0 to 10:\n",
            "Moe_Szyslak: (INTO PHONE) Moe's Tavern. Where the elite meet to drink.\n",
            "Bart_Simpson: Eh, yeah, hello, is Mike there? Last name, Rotch.\n",
            "Moe_Szyslak: (INTO PHONE) Hold on, I'll check. (TO BARFLIES) Mike Rotch. Mike Rotch. Hey, has anybody seen Mike Rotch, lately?\n",
            "Moe_Szyslak: (INTO PHONE) Listen you little puke. One of these days I'm gonna catch you, and I'm gonna carve my name on your back with an ice pick.\n",
            "Moe_Szyslak: What's the matter Homer? You're not your normal effervescent self.\n",
            "Homer_Simpson: I got my problems, Moe. Give me another one.\n",
            "Moe_Szyslak: Homer, hey, you should not drink to forget your problems.\n",
            "Barney_Gumble: Yeah, you should only drink to enhance your social skills.\n",
            "\n",
            "\n"
          ],
          "name": "stdout"
        }
      ]
    },
    {
      "metadata": {
        "id": "O333bgyoiqDH",
        "colab_type": "text"
      },
      "cell_type": "markdown",
      "source": [
        "## Implement Preprocessing Functions\n",
        "The first thing to do to any dataset is preprocessing.  Implement the following preprocessing functions below:\n",
        "- Lookup Table\n",
        "- Tokenize Punctuation\n",
        "\n",
        "### Lookup Table\n",
        "To create a word embedding, you first need to transform the words to ids.  In this function, create two dictionaries:\n",
        "- Dictionary to go from the words to an id, we'll call `vocab_to_int`\n",
        "- Dictionary to go from the id to word, we'll call `int_to_vocab`\n",
        "\n",
        "Return these dictionaries in the following tuple `(vocab_to_int, int_to_vocab)`"
      ]
    },
    {
      "metadata": {
        "id": "gMP9nXvhiqDM",
        "colab_type": "code",
        "colab": {
          "base_uri": "https://localhost:8080/",
          "height": 34
        },
        "outputId": "a40d9181-1886-4980-8968-ccce5f5677e5"
      },
      "cell_type": "code",
      "source": [
        "import numpy as np\n",
        "import problem_unittests as tests\n",
        "\n",
        "def create_lookup_tables(text):\n",
        "    \"\"\"\n",
        "    Create lookup tables for vocabulary\n",
        "    :param text: The text of tv scripts split into words\n",
        "    :return: A tuple of dicts (vocab_to_int, int_to_vocab)\n",
        "    \"\"\"\n",
        "    # TODO: Implement Function\n",
        "    vocab = set(text)\n",
        "    vocab_to_int = {word: i for i, word in enumerate(vocab)}\n",
        "    int_to_vocab = dict(enumerate(vocab))\n",
        "    return vocab_to_int, int_to_vocab\n",
        "\n",
        "\n",
        "\"\"\"\n",
        "DON'T MODIFY ANYTHING IN THIS CELL THAT IS BELOW THIS LINE\n",
        "\"\"\"\n",
        "tests.test_create_lookup_tables(create_lookup_tables)"
      ],
      "execution_count": 3,
      "outputs": [
        {
          "output_type": "stream",
          "text": [
            "Tests Passed\n"
          ],
          "name": "stdout"
        }
      ]
    },
    {
      "metadata": {
        "id": "GuSl-CfYiqDZ",
        "colab_type": "text"
      },
      "cell_type": "markdown",
      "source": [
        "### Tokenize Punctuation\n",
        "We'll be splitting the script into a word array using spaces as delimiters.  However, punctuations like periods and exclamation marks make it hard for the neural network to distinguish between the word \"bye\" and \"bye!\".\n",
        "\n",
        "Implement the function `token_lookup` to return a dict that will be used to tokenize symbols like \"!\" into \"||Exclamation_Mark||\".  Create a dictionary for the following symbols where the symbol is the key and value is the token:\n",
        "- Period ( . )\n",
        "- Comma ( , )\n",
        "- Quotation Mark ( \" )\n",
        "- Semicolon ( ; )\n",
        "- Exclamation mark ( ! )\n",
        "- Question mark ( ? )\n",
        "- Left Parentheses ( ( )\n",
        "- Right Parentheses ( ) )\n",
        "- Dash ( -- )\n",
        "- Return ( \\n )\n",
        "\n",
        "This dictionary will be used to token the symbols and add the delimiter (space) around it.  This separates the symbols as it's own word, making it easier for the neural network to predict on the next word. Make sure you don't use a token that could be confused as a word. Instead of using the token \"dash\", try using something like \"||dash||\"."
      ]
    },
    {
      "metadata": {
        "id": "uFnV2YdViqDd",
        "colab_type": "code",
        "colab": {
          "base_uri": "https://localhost:8080/",
          "height": 34
        },
        "outputId": "05bdb1ce-2d79-4b9a-d273-c136963f1852"
      },
      "cell_type": "code",
      "source": [
        "def token_lookup():\n",
        "    \"\"\"\n",
        "    Generate a dict to turn punctuation into a token.\n",
        "    :return: Tokenize dictionary where the key is the punctuation and the value is the token\n",
        "    \"\"\"\n",
        "    # TODO: Implement Function\n",
        "    process  = {'.': '||period||',\n",
        "                ',': '||comma||',\n",
        "                '\"': '||quotation_mark||',\n",
        "                ';': '||semicolon||',\n",
        "                '!': '||exclamation_mark||',\n",
        "                '?': '||question_mark||',\n",
        "                '(': '||left_parentheses',\n",
        "                ')': '||right_parentheses',\n",
        "                '--': '||dash||',\n",
        "                '\\n': '||Return||'}\n",
        "    return process\n",
        "\n",
        "\"\"\"\n",
        "DON'T MODIFY ANYTHING IN THIS CELL THAT IS BELOW THIS LINE\n",
        "\"\"\"\n",
        "tests.test_tokenize(token_lookup)"
      ],
      "execution_count": 5,
      "outputs": [
        {
          "output_type": "stream",
          "text": [
            "Tests Passed\n"
          ],
          "name": "stdout"
        }
      ]
    },
    {
      "metadata": {
        "id": "bMxx2cmXiqDs",
        "colab_type": "text"
      },
      "cell_type": "markdown",
      "source": [
        "## Preprocess all the data and save it\n",
        "Running the code cell below will preprocess all the data and save it to file."
      ]
    },
    {
      "metadata": {
        "id": "6zdyWReMiqDw",
        "colab_type": "code",
        "colab": {}
      },
      "cell_type": "code",
      "source": [
        "\"\"\"\n",
        "DON'T MODIFY ANYTHING IN THIS CELL\n",
        "\"\"\"\n",
        "# Preprocess Training, Validation, and Testing Data\n",
        "helper.preprocess_and_save_data(data_dir, token_lookup, create_lookup_tables)"
      ],
      "execution_count": 0,
      "outputs": []
    },
    {
      "metadata": {
        "id": "xdEBcMwsiqD9",
        "colab_type": "text"
      },
      "cell_type": "markdown",
      "source": [
        "# Check Point\n",
        "This is your first checkpoint. If you ever decide to come back to this notebook or have to restart the notebook, you can start from here. The preprocessed data has been saved to disk."
      ]
    },
    {
      "metadata": {
        "id": "9NnrAXWZiqEF",
        "colab_type": "code",
        "colab": {}
      },
      "cell_type": "code",
      "source": [
        "\"\"\"\n",
        "DON'T MODIFY ANYTHING IN THIS CELL\n",
        "\"\"\"\n",
        "import helper\n",
        "import numpy as np\n",
        "import problem_unittests as tests\n",
        "\n",
        "int_text, vocab_to_int, int_to_vocab, token_dict = helper.load_preprocess()"
      ],
      "execution_count": 0,
      "outputs": []
    },
    {
      "metadata": {
        "id": "mFVuzFGfiqES",
        "colab_type": "text"
      },
      "cell_type": "markdown",
      "source": [
        "## Build the Neural Network\n",
        "You'll build the components necessary to build a RNN by implementing the following functions below:\n",
        "- get_inputs\n",
        "- get_init_cell\n",
        "- get_embed\n",
        "- build_rnn\n",
        "- build_nn\n",
        "- get_batches\n",
        "\n",
        "### Check the Version of TensorFlow and Access to GPU"
      ]
    },
    {
      "metadata": {
        "id": "cnk2Lk7liqEY",
        "colab_type": "code",
        "colab": {
          "base_uri": "https://localhost:8080/",
          "height": 51
        },
        "outputId": "0dec6989-0151-4847-da59-984f24b6934b"
      },
      "cell_type": "code",
      "source": [
        "\"\"\"\n",
        "DON'T MODIFY ANYTHING IN THIS CELL\n",
        "\"\"\"\n",
        "from distutils.version import LooseVersion\n",
        "import warnings\n",
        "import tensorflow as tf\n",
        "\n",
        "# Check TensorFlow Version\n",
        "assert LooseVersion(tf.__version__) >= LooseVersion('1.3'), 'Please use TensorFlow version 1.3 or newer'\n",
        "print('TensorFlow Version: {}'.format(tf.__version__))\n",
        "\n",
        "# Check for a GPU\n",
        "if not tf.test.gpu_device_name():\n",
        "    warnings.warn('No GPU found. Please use a GPU to train your neural network.')\n",
        "else:\n",
        "    print('Default GPU Device: {}'.format(tf.test.gpu_device_name()))"
      ],
      "execution_count": 8,
      "outputs": [
        {
          "output_type": "stream",
          "text": [
            "TensorFlow Version: 1.13.1\n",
            "Default GPU Device: /device:GPU:0\n"
          ],
          "name": "stdout"
        }
      ]
    },
    {
      "metadata": {
        "id": "rrI_UYG3iqEm",
        "colab_type": "text"
      },
      "cell_type": "markdown",
      "source": [
        "### Input\n",
        "Implement the `get_inputs()` function to create TF Placeholders for the Neural Network.  It should create the following placeholders:\n",
        "- Input text placeholder named \"input\" using the [TF Placeholder](https://www.tensorflow.org/api_docs/python/tf/placeholder) `name` parameter.\n",
        "- Targets placeholder\n",
        "- Learning Rate placeholder\n",
        "\n",
        "Return the placeholders in the following tuple `(Input, Targets, LearningRate)`"
      ]
    },
    {
      "metadata": {
        "id": "p9J2zTJIiqEq",
        "colab_type": "code",
        "colab": {
          "base_uri": "https://localhost:8080/",
          "height": 34
        },
        "outputId": "22b0da38-9e38-4af0-bd25-eee6632ae2fd"
      },
      "cell_type": "code",
      "source": [
        "def get_inputs():\n",
        "    \"\"\"\n",
        "    Create TF Placeholders for input, targets, and learning rate.\n",
        "    :return: Tuple (input, targets, learning rate)\n",
        "    \"\"\"\n",
        "    # TODO: Implement Function\n",
        "    input_ = tf.placeholder(tf.int32, [None, None], name = 'input')\n",
        "    targets_ = tf.placeholder(tf.int32, [None, None], name = 'targets')\n",
        "    learning_rate_ = tf.placeholder(tf.float32, shape = (), name = 'learning_rate')\n",
        "    return input_, targets_, learning_rate_\n",
        "\n",
        "\n",
        "\"\"\"\n",
        "DON'T MODIFY ANYTHING IN THIS CELL THAT IS BELOW THIS LINE\n",
        "\"\"\"\n",
        "tests.test_get_inputs(get_inputs)"
      ],
      "execution_count": 9,
      "outputs": [
        {
          "output_type": "stream",
          "text": [
            "Tests Passed\n"
          ],
          "name": "stdout"
        }
      ]
    },
    {
      "metadata": {
        "id": "_wkYb3eXiqE4",
        "colab_type": "text"
      },
      "cell_type": "markdown",
      "source": [
        "### Build RNN Cell and Initialize\n",
        "Stack one or more [`BasicLSTMCells`](https://www.tensorflow.org/api_docs/python/tf/contrib/rnn/BasicLSTMCell) in a [`MultiRNNCell`](https://www.tensorflow.org/api_docs/python/tf/contrib/rnn/MultiRNNCell).\n",
        "- The Rnn size should be set using `rnn_size`\n",
        "- Initalize Cell State using the MultiRNNCell's [`zero_state()`](https://www.tensorflow.org/api_docs/python/tf/contrib/rnn/MultiRNNCell#zero_state) function\n",
        "    - Apply the name \"initial_state\" to the initial state using [`tf.identity()`](https://www.tensorflow.org/api_docs/python/tf/identity)\n",
        "\n",
        "Return the cell and initial state in the following tuple `(Cell, InitialState)`"
      ]
    },
    {
      "metadata": {
        "id": "UlKIUMCMiqE9",
        "colab_type": "code",
        "colab": {
          "base_uri": "https://localhost:8080/",
          "height": 34
        },
        "outputId": "4eca2278-f4c9-4028-9cbc-6b8825752172"
      },
      "cell_type": "code",
      "source": [
        "def get_init_cell(batch_size, rnn_size):\n",
        "    \"\"\"\n",
        "    Create an RNN Cell and initialize it.\n",
        "    :param batch_size: Size of batches\n",
        "    :param rnn_size: Size of RNNs\n",
        "    :return: Tuple (cell, initialize state)\n",
        "    \"\"\"\n",
        "    # TODO: Implement Function\n",
        "    layers = 2\n",
        "    cells = []\n",
        "    for i in range(layers):\n",
        "        lstm = tf.contrib.rnn.BasicLSTMCell(rnn_size)\n",
        "        drop = tf.contrib.rnn.DropoutWrapper(lstm, output_keep_prob=0.7)\n",
        "        cells.append(drop)\n",
        "\n",
        "        cell = tf.contrib.rnn.MultiRNNCell(cells)\n",
        "        initial_state = tf.identity(cell.zero_state(batch_size, tf.float32), name=\"initial_state\")\n",
        "        return cell, initial_state\n",
        "\n",
        "\n",
        "\"\"\"\n",
        "DON'T MODIFY ANYTHING IN THIS CELL THAT IS BELOW THIS LINE\n",
        "\"\"\"\n",
        "tests.test_get_init_cell(get_init_cell)"
      ],
      "execution_count": 11,
      "outputs": [
        {
          "output_type": "stream",
          "text": [
            "Tests Passed\n"
          ],
          "name": "stdout"
        }
      ]
    },
    {
      "metadata": {
        "id": "guXrBAtriqFL",
        "colab_type": "text"
      },
      "cell_type": "markdown",
      "source": [
        "### Word Embedding\n",
        "Apply embedding to `input_data` using TensorFlow.  Return the embedded sequence."
      ]
    },
    {
      "metadata": {
        "id": "miCYOOhXiqFP",
        "colab_type": "code",
        "colab": {
          "base_uri": "https://localhost:8080/",
          "height": 34
        },
        "outputId": "f31cfde6-53cb-4e11-e044-edda33f257a1"
      },
      "cell_type": "code",
      "source": [
        "def get_embed(input_data, vocab_size, embed_dim):\n",
        "    \"\"\"\n",
        "    Create embedding for <input_data>.\n",
        "    :param input_data: TF placeholder for text input.\n",
        "    :param vocab_size: Number of words in vocabulary.\n",
        "    :param embed_dim: Number of embedding dimensions\n",
        "    :return: Embedded input.\n",
        "    \"\"\"\n",
        "    # TODO: Implement Function\n",
        "    return tf.contrib.layers.embed_sequence(input_data, vocab_size, embed_dim)\n",
        "\n",
        "\n",
        "\"\"\"\n",
        "DON'T MODIFY ANYTHING IN THIS CELL THAT IS BELOW THIS LINE\n",
        "\"\"\"\n",
        "tests.test_get_embed(get_embed)"
      ],
      "execution_count": 13,
      "outputs": [
        {
          "output_type": "stream",
          "text": [
            "Tests Passed\n"
          ],
          "name": "stdout"
        }
      ]
    },
    {
      "metadata": {
        "id": "C-73AkUyiqFY",
        "colab_type": "text"
      },
      "cell_type": "markdown",
      "source": [
        "### Build RNN\n",
        "You created a RNN Cell in the `get_init_cell()` function.  Time to use the cell to create a RNN.\n",
        "- Build the RNN using the [`tf.nn.dynamic_rnn()`](https://www.tensorflow.org/api_docs/python/tf/nn/dynamic_rnn)\n",
        " - Apply the name \"final_state\" to the final state using [`tf.identity()`](https://www.tensorflow.org/api_docs/python/tf/identity)\n",
        "\n",
        "Return the outputs and final_state state in the following tuple `(Outputs, FinalState)` "
      ]
    },
    {
      "metadata": {
        "id": "k1POoHGyiqFc",
        "colab_type": "code",
        "colab": {
          "base_uri": "https://localhost:8080/",
          "height": 34
        },
        "outputId": "fa582939-7f32-46bb-cfee-37d008486ebe"
      },
      "cell_type": "code",
      "source": [
        "def build_rnn(cell, inputs):\n",
        "    \"\"\"\n",
        "    Create a RNN using a RNN Cell\n",
        "    :param cell: RNN Cell\n",
        "    :param inputs: Input text data\n",
        "    :return: Tuple (Outputs, Final State)\n",
        "    \"\"\"\n",
        "    # TODO: Implement Function\n",
        "    outputs, state = tf.nn.dynamic_rnn(cell, inputs, dtype= tf.float32)\n",
        "    final_state = tf.identity(state, name = 'final_state')\n",
        "    return outputs, final_state\n",
        "\n",
        "\n",
        "\"\"\"\n",
        "DON'T MODIFY ANYTHING IN THIS CELL THAT IS BELOW THIS LINE\n",
        "\"\"\"\n",
        "tests.test_build_rnn(build_rnn)"
      ],
      "execution_count": 16,
      "outputs": [
        {
          "output_type": "stream",
          "text": [
            "Tests Passed\n"
          ],
          "name": "stdout"
        }
      ]
    },
    {
      "metadata": {
        "id": "FhVTHm6WiqFp",
        "colab_type": "text"
      },
      "cell_type": "markdown",
      "source": [
        "### Build the Neural Network\n",
        "Apply the functions you implemented above to:\n",
        "- Apply embedding to `input_data` using your `get_embed(input_data, vocab_size, embed_dim)` function.\n",
        "- Build RNN using `cell` and your `build_rnn(cell, inputs)` function.\n",
        "- Apply a fully connected layer with a linear activation and `vocab_size` as the number of outputs.\n",
        "\n",
        "Return the logits and final state in the following tuple (Logits, FinalState) "
      ]
    },
    {
      "metadata": {
        "id": "PtHBwN0aiqFs",
        "colab_type": "code",
        "colab": {
          "base_uri": "https://localhost:8080/",
          "height": 51
        },
        "outputId": "74baec8a-cde9-4004-f622-684706186e64"
      },
      "cell_type": "code",
      "source": [
        "def build_nn(cell, rnn_size, input_data, vocab_size, embed_dim):\n",
        "    \"\"\"\n",
        "    Build part of the neural network\n",
        "    :param cell: RNN cell\n",
        "    :param rnn_size: Size of rnns\n",
        "    :param input_data: Input data\n",
        "    :param vocab_size: Vocabulary size\n",
        "    :param embed_dim: Number of embedding dimensions\n",
        "    :return: Tuple (Logits, FinalState)\n",
        "    \"\"\"\n",
        "    # TODO: Implement Function\n",
        "    embed_data = get_embed(input_data, vocab_size, embed_dim)\n",
        "    outputs, state = build_rnn(cell = cell, inputs = embed_data)\n",
        "    weights_init = tf.truncated_normal_initializer(stddev=0.1)\n",
        "    bias_init = tf.zeros_initializer()\n",
        "    logits = tf.contrib.layers.fully_connected(outputs, num_outputs = vocab_size, activation_fn = None, weights_initializer = weights_init, biases_initializer = bias_init)\n",
        "    print(logits)\n",
        "    return logits, state\n",
        "\n",
        "\n",
        "\"\"\"\n",
        "DON'T MODIFY ANYTHING IN THIS CELL THAT IS BELOW THIS LINE\n",
        "\"\"\"\n",
        "tests.test_build_nn(build_nn)"
      ],
      "execution_count": 17,
      "outputs": [
        {
          "output_type": "stream",
          "text": [
            "Tensor(\"fully_connected/BiasAdd:0\", shape=(128, 5, 27), dtype=float32)\n",
            "Tests Passed\n"
          ],
          "name": "stdout"
        }
      ]
    },
    {
      "metadata": {
        "id": "lKDWcOgWiqF2",
        "colab_type": "text"
      },
      "cell_type": "markdown",
      "source": [
        "### Batches\n",
        "Implement `get_batches` to create batches of input and targets using `int_text`.  The batches should be a Numpy array with the shape `(number of batches, 2, batch size, sequence length)`. Each batch contains two elements:\n",
        "- The first element is a single batch of **input** with the shape `[batch size, sequence length]`\n",
        "- The second element is a single batch of **targets** with the shape `[batch size, sequence length]`\n",
        "\n",
        "If you can't fill the last batch with enough data, drop the last batch.\n",
        "\n",
        "For example, `get_batches([1, 2, 3, 4, 5, 6, 7, 8, 9, 10, 11, 12, 13, 14, 15, 16, 17, 18, 19, 20], 3, 2)` would return a Numpy array of the following:\n",
        "```\n",
        "[\n",
        "  # First Batch\n",
        "  [\n",
        "    # Batch of Input\n",
        "    [[ 1  2], [ 7  8], [13 14]]\n",
        "    # Batch of targets\n",
        "    [[ 2  3], [ 8  9], [14 15]]\n",
        "  ]\n",
        "\n",
        "  # Second Batch\n",
        "  [\n",
        "    # Batch of Input\n",
        "    [[ 3  4], [ 9 10], [15 16]]\n",
        "    # Batch of targets\n",
        "    [[ 4  5], [10 11], [16 17]]\n",
        "  ]\n",
        "\n",
        "  # Third Batch\n",
        "  [\n",
        "    # Batch of Input\n",
        "    [[ 5  6], [11 12], [17 18]]\n",
        "    # Batch of targets\n",
        "    [[ 6  7], [12 13], [18  1]]\n",
        "  ]\n",
        "]\n",
        "```\n",
        "\n",
        "Notice that the last target value in the last batch is the first input value of the first batch. In this case, `1`. This is a common technique used when creating sequence batches, although it is rather unintuitive."
      ]
    },
    {
      "metadata": {
        "id": "D8dty3Y5iqF5",
        "colab_type": "code",
        "colab": {
          "base_uri": "https://localhost:8080/",
          "height": 34
        },
        "outputId": "920f726e-921f-4847-b0f2-77ffdd738f1f"
      },
      "cell_type": "code",
      "source": [
        "def get_batches(int_text, batch_size, seq_length):\n",
        "    \"\"\"\n",
        "    Return batches of input and target\n",
        "    :param int_text: Text with the words replaced by their ids\n",
        "    :param batch_size: The size of batch\n",
        "    :param seq_length: The length of sequence\n",
        "    :return: Batches as a Numpy array\n",
        "    \"\"\"\n",
        "    # TODO: Implement Function\n",
        "    char_per_batch = batch_size * seq_length\n",
        "    num_batch = len(int_text)//char_per_batch      \n",
        "    \n",
        "    input_text = np.array(int_text[:(num_batch*char_per_batch)])\n",
        "    target_text = np.array(int_text[1:(num_batch * char_per_batch) + 1])\n",
        "    target_text[-1] = input_text[0]\n",
        "    \n",
        "    x_batches = np.split(input_text.reshape(batch_size, -1), num_batch, 1)\n",
        "    y_batches = np.split(target_text.reshape(batch_size, -1), num_batch, 1)\n",
        "    \n",
        "    batches = np.array(list(zip(x_batches, y_batches)))\n",
        "    return batches\n",
        "\n",
        "\n",
        "\"\"\"\n",
        "DON'T MODIFY ANYTHING IN THIS CELL THAT IS BELOW THIS LINE\n",
        "\"\"\"\n",
        "tests.test_get_batches(get_batches)"
      ],
      "execution_count": 19,
      "outputs": [
        {
          "output_type": "stream",
          "text": [
            "Tests Passed\n"
          ],
          "name": "stdout"
        }
      ]
    },
    {
      "metadata": {
        "id": "JkvTq1iiiqGI",
        "colab_type": "text"
      },
      "cell_type": "markdown",
      "source": [
        "## Neural Network Training\n",
        "### Hyperparameters\n",
        "Tune the following parameters:\n",
        "\n",
        "- Set `num_epochs` to the number of epochs.\n",
        "- Set `batch_size` to the batch size.\n",
        "- Set `rnn_size` to the size of the RNNs.\n",
        "- Set `embed_dim` to the size of the embedding.\n",
        "- Set `seq_length` to the length of sequence.\n",
        "- Set `learning_rate` to the learning rate.\n",
        "- Set `show_every_n_batches` to the number of batches the neural network should print progress."
      ]
    },
    {
      "metadata": {
        "id": "z56VgHT1iqGP",
        "colab_type": "code",
        "colab": {}
      },
      "cell_type": "code",
      "source": [
        "# Number of Epochs\n",
        "num_epochs = 100\n",
        "# Batch Size\n",
        "batch_size = 256\n",
        "# RNN Size\n",
        "rnn_size = 256\n",
        "# Embedding Dimension Size\n",
        "embed_dim = 256\n",
        "# Sequence Length\n",
        "seq_length = 10\n",
        "# Learning Rate\n",
        "learning_rate = 0.01\n",
        "# Show stats for every n number of batches\n",
        "show_every_n_batches = 5\n",
        "\n",
        "\"\"\"\n",
        "DON'T MODIFY ANYTHING IN THIS CELL THAT IS BELOW THIS LINE\n",
        "\"\"\"\n",
        "save_dir = './save'"
      ],
      "execution_count": 0,
      "outputs": []
    },
    {
      "metadata": {
        "id": "L910FMl-iqGb",
        "colab_type": "text"
      },
      "cell_type": "markdown",
      "source": [
        "### Build the Graph\n",
        "Build the graph using the neural network you implemented."
      ]
    },
    {
      "metadata": {
        "id": "OoOVExDUiqGf",
        "colab_type": "code",
        "colab": {
          "base_uri": "https://localhost:8080/",
          "height": 156
        },
        "outputId": "d462811b-12b1-45b8-f341-6ddffd9fa1df"
      },
      "cell_type": "code",
      "source": [
        "\"\"\"\n",
        "DON'T MODIFY ANYTHING IN THIS CELL\n",
        "\"\"\"\n",
        "from tensorflow.contrib import seq2seq\n",
        "\n",
        "train_graph = tf.Graph()\n",
        "with train_graph.as_default():\n",
        "    vocab_size = len(int_to_vocab)\n",
        "    input_text, targets, lr = get_inputs()\n",
        "    input_data_shape = tf.shape(input_text)\n",
        "    cell, initial_state = get_init_cell(input_data_shape[0], rnn_size)\n",
        "    logits, final_state = build_nn(cell, rnn_size, input_text, vocab_size, embed_dim)\n",
        "\n",
        "    # Probabilities for generating words\n",
        "    probs = tf.nn.softmax(logits, name='probs')\n",
        "\n",
        "    # Loss function\n",
        "    cost = seq2seq.sequence_loss(\n",
        "        logits,\n",
        "        targets,\n",
        "        tf.ones([input_data_shape[0], input_data_shape[1]]))\n",
        "\n",
        "    # Optimizer\n",
        "    optimizer = tf.train.AdamOptimizer(lr)\n",
        "\n",
        "    # Gradient Clipping\n",
        "    gradients = optimizer.compute_gradients(cost)\n",
        "    capped_gradients = [(tf.clip_by_value(grad, -1., 1.), var) for grad, var in gradients if grad is not None]\n",
        "    train_op = optimizer.apply_gradients(capped_gradients)"
      ],
      "execution_count": 21,
      "outputs": [
        {
          "output_type": "stream",
          "text": [
            "WARNING:tensorflow:From /usr/local/lib/python3.6/dist-packages/tensorflow/python/ops/rnn_cell_impl.py:1259: calling dropout (from tensorflow.python.ops.nn_ops) with keep_prob is deprecated and will be removed in a future version.\n",
            "Instructions for updating:\n",
            "Please use `rate` instead of `keep_prob`. Rate should be set to `rate = 1 - keep_prob`.\n",
            "Tensor(\"fully_connected/BiasAdd:0\", shape=(?, ?, 6779), dtype=float32)\n",
            "WARNING:tensorflow:From /usr/local/lib/python3.6/dist-packages/tensorflow/python/ops/array_grad.py:425: to_int32 (from tensorflow.python.ops.math_ops) is deprecated and will be removed in a future version.\n",
            "Instructions for updating:\n",
            "Use tf.cast instead.\n"
          ],
          "name": "stdout"
        }
      ]
    },
    {
      "metadata": {
        "id": "ZgIEaVnliqGr",
        "colab_type": "text"
      },
      "cell_type": "markdown",
      "source": [
        "## Train\n",
        "Train the neural network on the preprocessed data.  If you have a hard time getting a good loss, check the [forums](https://discussions.udacity.com/) to see if anyone is having the same problem."
      ]
    },
    {
      "metadata": {
        "id": "tvRECA9jiqGu",
        "colab_type": "code",
        "colab": {
          "base_uri": "https://localhost:8080/",
          "height": 8874
        },
        "outputId": "d3541985-99df-4dca-9c1b-c0d84bbc97ed"
      },
      "cell_type": "code",
      "source": [
        "\"\"\"\n",
        "DON'T MODIFY ANYTHING IN THIS CELL\n",
        "\"\"\"\n",
        "batches = get_batches(int_text, batch_size, seq_length)\n",
        "\n",
        "with tf.Session(graph=train_graph) as sess:\n",
        "    sess.run(tf.global_variables_initializer())\n",
        "\n",
        "    for epoch_i in range(num_epochs):\n",
        "        state = sess.run(initial_state, {input_text: batches[0][0]})\n",
        "\n",
        "        for batch_i, (x, y) in enumerate(batches):\n",
        "            feed = {\n",
        "                input_text: x,\n",
        "                targets: y,\n",
        "                initial_state: state,\n",
        "                lr: learning_rate}\n",
        "            train_loss, state, _ = sess.run([cost, final_state, train_op], feed)\n",
        "\n",
        "            # Show every <show_every_n_batches> batches\n",
        "            if (epoch_i * len(batches) + batch_i) % show_every_n_batches == 0:\n",
        "                print('Epoch {:>3} Batch {:>4}/{}   train_loss = {:.3f}'.format(\n",
        "                    epoch_i,\n",
        "                    batch_i,\n",
        "                    len(batches),\n",
        "                    train_loss))\n",
        "\n",
        "    # Save Model\n",
        "    saver = tf.train.Saver()\n",
        "    saver.save(sess, save_dir)\n",
        "    print('Model Trained and Saved')"
      ],
      "execution_count": 22,
      "outputs": [
        {
          "output_type": "stream",
          "text": [
            "Epoch   0 Batch    0/26   train_loss = 8.821\n",
            "Epoch   0 Batch    5/26   train_loss = 6.695\n",
            "Epoch   0 Batch   10/26   train_loss = 6.110\n",
            "Epoch   0 Batch   15/26   train_loss = 6.088\n",
            "Epoch   0 Batch   20/26   train_loss = 5.854\n",
            "Epoch   0 Batch   25/26   train_loss = 5.890\n",
            "Epoch   1 Batch    4/26   train_loss = 5.336\n",
            "Epoch   1 Batch    9/26   train_loss = 5.352\n",
            "Epoch   1 Batch   14/26   train_loss = 5.300\n",
            "Epoch   1 Batch   19/26   train_loss = 5.144\n",
            "Epoch   1 Batch   24/26   train_loss = 5.056\n",
            "Epoch   2 Batch    3/26   train_loss = 4.908\n",
            "Epoch   2 Batch    8/26   train_loss = 4.869\n",
            "Epoch   2 Batch   13/26   train_loss = 4.924\n",
            "Epoch   2 Batch   18/26   train_loss = 4.793\n",
            "Epoch   2 Batch   23/26   train_loss = 4.738\n",
            "Epoch   3 Batch    2/26   train_loss = 4.686\n",
            "Epoch   3 Batch    7/26   train_loss = 4.597\n",
            "Epoch   3 Batch   12/26   train_loss = 4.595\n",
            "Epoch   3 Batch   17/26   train_loss = 4.463\n",
            "Epoch   3 Batch   22/26   train_loss = 4.396\n",
            "Epoch   4 Batch    1/26   train_loss = 4.309\n",
            "Epoch   4 Batch    6/26   train_loss = 4.366\n",
            "Epoch   4 Batch   11/26   train_loss = 4.401\n",
            "Epoch   4 Batch   16/26   train_loss = 4.229\n",
            "Epoch   4 Batch   21/26   train_loss = 4.297\n",
            "Epoch   5 Batch    0/26   train_loss = 4.183\n",
            "Epoch   5 Batch    5/26   train_loss = 4.088\n",
            "Epoch   5 Batch   10/26   train_loss = 3.984\n",
            "Epoch   5 Batch   15/26   train_loss = 4.023\n",
            "Epoch   5 Batch   20/26   train_loss = 4.001\n",
            "Epoch   5 Batch   25/26   train_loss = 4.065\n",
            "Epoch   6 Batch    4/26   train_loss = 3.897\n",
            "Epoch   6 Batch    9/26   train_loss = 3.946\n",
            "Epoch   6 Batch   14/26   train_loss = 3.858\n",
            "Epoch   6 Batch   19/26   train_loss = 3.799\n",
            "Epoch   6 Batch   24/26   train_loss = 3.758\n",
            "Epoch   7 Batch    3/26   train_loss = 3.737\n",
            "Epoch   7 Batch    8/26   train_loss = 3.645\n",
            "Epoch   7 Batch   13/26   train_loss = 3.670\n",
            "Epoch   7 Batch   18/26   train_loss = 3.646\n",
            "Epoch   7 Batch   23/26   train_loss = 3.565\n",
            "Epoch   8 Batch    2/26   train_loss = 3.573\n",
            "Epoch   8 Batch    7/26   train_loss = 3.558\n",
            "Epoch   8 Batch   12/26   train_loss = 3.480\n",
            "Epoch   8 Batch   17/26   train_loss = 3.392\n",
            "Epoch   8 Batch   22/26   train_loss = 3.367\n",
            "Epoch   9 Batch    1/26   train_loss = 3.317\n",
            "Epoch   9 Batch    6/26   train_loss = 3.351\n",
            "Epoch   9 Batch   11/26   train_loss = 3.384\n",
            "Epoch   9 Batch   16/26   train_loss = 3.256\n",
            "Epoch   9 Batch   21/26   train_loss = 3.225\n",
            "Epoch  10 Batch    0/26   train_loss = 3.176\n",
            "Epoch  10 Batch    5/26   train_loss = 3.214\n",
            "Epoch  10 Batch   10/26   train_loss = 3.093\n",
            "Epoch  10 Batch   15/26   train_loss = 3.029\n",
            "Epoch  10 Batch   20/26   train_loss = 3.032\n",
            "Epoch  10 Batch   25/26   train_loss = 3.096\n",
            "Epoch  11 Batch    4/26   train_loss = 3.067\n",
            "Epoch  11 Batch    9/26   train_loss = 3.055\n",
            "Epoch  11 Batch   14/26   train_loss = 2.931\n",
            "Epoch  11 Batch   19/26   train_loss = 2.925\n",
            "Epoch  11 Batch   24/26   train_loss = 2.877\n",
            "Epoch  12 Batch    3/26   train_loss = 2.882\n",
            "Epoch  12 Batch    8/26   train_loss = 2.793\n",
            "Epoch  12 Batch   13/26   train_loss = 2.853\n",
            "Epoch  12 Batch   18/26   train_loss = 2.784\n",
            "Epoch  12 Batch   23/26   train_loss = 2.734\n",
            "Epoch  13 Batch    2/26   train_loss = 2.782\n",
            "Epoch  13 Batch    7/26   train_loss = 2.802\n",
            "Epoch  13 Batch   12/26   train_loss = 2.703\n",
            "Epoch  13 Batch   17/26   train_loss = 2.705\n",
            "Epoch  13 Batch   22/26   train_loss = 2.644\n",
            "Epoch  14 Batch    1/26   train_loss = 2.650\n",
            "Epoch  14 Batch    6/26   train_loss = 2.625\n",
            "Epoch  14 Batch   11/26   train_loss = 2.732\n",
            "Epoch  14 Batch   16/26   train_loss = 2.590\n",
            "Epoch  14 Batch   21/26   train_loss = 2.542\n",
            "Epoch  15 Batch    0/26   train_loss = 2.477\n",
            "Epoch  15 Batch    5/26   train_loss = 2.597\n",
            "Epoch  15 Batch   10/26   train_loss = 2.538\n",
            "Epoch  15 Batch   15/26   train_loss = 2.467\n",
            "Epoch  15 Batch   20/26   train_loss = 2.442\n",
            "Epoch  15 Batch   25/26   train_loss = 2.464\n",
            "Epoch  16 Batch    4/26   train_loss = 2.484\n",
            "Epoch  16 Batch    9/26   train_loss = 2.502\n",
            "Epoch  16 Batch   14/26   train_loss = 2.364\n",
            "Epoch  16 Batch   19/26   train_loss = 2.416\n",
            "Epoch  16 Batch   24/26   train_loss = 2.339\n",
            "Epoch  17 Batch    3/26   train_loss = 2.320\n",
            "Epoch  17 Batch    8/26   train_loss = 2.265\n",
            "Epoch  17 Batch   13/26   train_loss = 2.302\n",
            "Epoch  17 Batch   18/26   train_loss = 2.268\n",
            "Epoch  17 Batch   23/26   train_loss = 2.214\n",
            "Epoch  18 Batch    2/26   train_loss = 2.292\n",
            "Epoch  18 Batch    7/26   train_loss = 2.322\n",
            "Epoch  18 Batch   12/26   train_loss = 2.199\n",
            "Epoch  18 Batch   17/26   train_loss = 2.252\n",
            "Epoch  18 Batch   22/26   train_loss = 2.189\n",
            "Epoch  19 Batch    1/26   train_loss = 2.199\n",
            "Epoch  19 Batch    6/26   train_loss = 2.118\n",
            "Epoch  19 Batch   11/26   train_loss = 2.259\n",
            "Epoch  19 Batch   16/26   train_loss = 2.164\n",
            "Epoch  19 Batch   21/26   train_loss = 2.106\n",
            "Epoch  20 Batch    0/26   train_loss = 2.056\n",
            "Epoch  20 Batch    5/26   train_loss = 2.152\n",
            "Epoch  20 Batch   10/26   train_loss = 2.079\n",
            "Epoch  20 Batch   15/26   train_loss = 2.001\n",
            "Epoch  20 Batch   20/26   train_loss = 2.040\n",
            "Epoch  20 Batch   25/26   train_loss = 2.042\n",
            "Epoch  21 Batch    4/26   train_loss = 2.067\n",
            "Epoch  21 Batch    9/26   train_loss = 2.039\n",
            "Epoch  21 Batch   14/26   train_loss = 1.988\n",
            "Epoch  21 Batch   19/26   train_loss = 2.013\n",
            "Epoch  21 Batch   24/26   train_loss = 2.001\n",
            "Epoch  22 Batch    3/26   train_loss = 1.982\n",
            "Epoch  22 Batch    8/26   train_loss = 1.889\n",
            "Epoch  22 Batch   13/26   train_loss = 1.958\n",
            "Epoch  22 Batch   18/26   train_loss = 1.940\n",
            "Epoch  22 Batch   23/26   train_loss = 1.901\n",
            "Epoch  23 Batch    2/26   train_loss = 1.948\n",
            "Epoch  23 Batch    7/26   train_loss = 1.935\n",
            "Epoch  23 Batch   12/26   train_loss = 1.850\n",
            "Epoch  23 Batch   17/26   train_loss = 1.928\n",
            "Epoch  23 Batch   22/26   train_loss = 1.876\n",
            "Epoch  24 Batch    1/26   train_loss = 1.927\n",
            "Epoch  24 Batch    6/26   train_loss = 1.854\n",
            "Epoch  24 Batch   11/26   train_loss = 1.874\n",
            "Epoch  24 Batch   16/26   train_loss = 1.875\n",
            "Epoch  24 Batch   21/26   train_loss = 1.786\n",
            "Epoch  25 Batch    0/26   train_loss = 1.754\n",
            "Epoch  25 Batch    5/26   train_loss = 1.883\n",
            "Epoch  25 Batch   10/26   train_loss = 1.786\n",
            "Epoch  25 Batch   15/26   train_loss = 1.700\n",
            "Epoch  25 Batch   20/26   train_loss = 1.756\n",
            "Epoch  25 Batch   25/26   train_loss = 1.764\n",
            "Epoch  26 Batch    4/26   train_loss = 1.839\n",
            "Epoch  26 Batch    9/26   train_loss = 1.820\n",
            "Epoch  26 Batch   14/26   train_loss = 1.682\n",
            "Epoch  26 Batch   19/26   train_loss = 1.758\n",
            "Epoch  26 Batch   24/26   train_loss = 1.706\n",
            "Epoch  27 Batch    3/26   train_loss = 1.756\n",
            "Epoch  27 Batch    8/26   train_loss = 1.664\n",
            "Epoch  27 Batch   13/26   train_loss = 1.658\n",
            "Epoch  27 Batch   18/26   train_loss = 1.631\n",
            "Epoch  27 Batch   23/26   train_loss = 1.637\n",
            "Epoch  28 Batch    2/26   train_loss = 1.672\n",
            "Epoch  28 Batch    7/26   train_loss = 1.757\n",
            "Epoch  28 Batch   12/26   train_loss = 1.588\n",
            "Epoch  28 Batch   17/26   train_loss = 1.579\n",
            "Epoch  28 Batch   22/26   train_loss = 1.615\n",
            "Epoch  29 Batch    1/26   train_loss = 1.694\n",
            "Epoch  29 Batch    6/26   train_loss = 1.620\n",
            "Epoch  29 Batch   11/26   train_loss = 1.670\n",
            "Epoch  29 Batch   16/26   train_loss = 1.611\n",
            "Epoch  29 Batch   21/26   train_loss = 1.532\n",
            "Epoch  30 Batch    0/26   train_loss = 1.498\n",
            "Epoch  30 Batch    5/26   train_loss = 1.630\n",
            "Epoch  30 Batch   10/26   train_loss = 1.570\n",
            "Epoch  30 Batch   15/26   train_loss = 1.478\n",
            "Epoch  30 Batch   20/26   train_loss = 1.461\n",
            "Epoch  30 Batch   25/26   train_loss = 1.504\n",
            "Epoch  31 Batch    4/26   train_loss = 1.592\n",
            "Epoch  31 Batch    9/26   train_loss = 1.555\n",
            "Epoch  31 Batch   14/26   train_loss = 1.465\n",
            "Epoch  31 Batch   19/26   train_loss = 1.517\n",
            "Epoch  31 Batch   24/26   train_loss = 1.465\n",
            "Epoch  32 Batch    3/26   train_loss = 1.511\n",
            "Epoch  32 Batch    8/26   train_loss = 1.431\n",
            "Epoch  32 Batch   13/26   train_loss = 1.434\n",
            "Epoch  32 Batch   18/26   train_loss = 1.421\n",
            "Epoch  32 Batch   23/26   train_loss = 1.398\n",
            "Epoch  33 Batch    2/26   train_loss = 1.437\n",
            "Epoch  33 Batch    7/26   train_loss = 1.494\n",
            "Epoch  33 Batch   12/26   train_loss = 1.399\n",
            "Epoch  33 Batch   17/26   train_loss = 1.425\n",
            "Epoch  33 Batch   22/26   train_loss = 1.390\n",
            "Epoch  34 Batch    1/26   train_loss = 1.445\n",
            "Epoch  34 Batch    6/26   train_loss = 1.402\n",
            "Epoch  34 Batch   11/26   train_loss = 1.471\n",
            "Epoch  34 Batch   16/26   train_loss = 1.391\n",
            "Epoch  34 Batch   21/26   train_loss = 1.401\n",
            "Epoch  35 Batch    0/26   train_loss = 1.317\n",
            "Epoch  35 Batch    5/26   train_loss = 1.425\n",
            "Epoch  35 Batch   10/26   train_loss = 1.395\n",
            "Epoch  35 Batch   15/26   train_loss = 1.316\n",
            "Epoch  35 Batch   20/26   train_loss = 1.290\n",
            "Epoch  35 Batch   25/26   train_loss = 1.362\n",
            "Epoch  36 Batch    4/26   train_loss = 1.401\n",
            "Epoch  36 Batch    9/26   train_loss = 1.357\n",
            "Epoch  36 Batch   14/26   train_loss = 1.342\n",
            "Epoch  36 Batch   19/26   train_loss = 1.321\n",
            "Epoch  36 Batch   24/26   train_loss = 1.286\n",
            "Epoch  37 Batch    3/26   train_loss = 1.349\n",
            "Epoch  37 Batch    8/26   train_loss = 1.252\n",
            "Epoch  37 Batch   13/26   train_loss = 1.247\n",
            "Epoch  37 Batch   18/26   train_loss = 1.273\n",
            "Epoch  37 Batch   23/26   train_loss = 1.241\n",
            "Epoch  38 Batch    2/26   train_loss = 1.282\n",
            "Epoch  38 Batch    7/26   train_loss = 1.302\n",
            "Epoch  38 Batch   12/26   train_loss = 1.255\n",
            "Epoch  38 Batch   17/26   train_loss = 1.247\n",
            "Epoch  38 Batch   22/26   train_loss = 1.224\n",
            "Epoch  39 Batch    1/26   train_loss = 1.327\n",
            "Epoch  39 Batch    6/26   train_loss = 1.246\n",
            "Epoch  39 Batch   11/26   train_loss = 1.283\n",
            "Epoch  39 Batch   16/26   train_loss = 1.260\n",
            "Epoch  39 Batch   21/26   train_loss = 1.216\n",
            "Epoch  40 Batch    0/26   train_loss = 1.174\n",
            "Epoch  40 Batch    5/26   train_loss = 1.244\n",
            "Epoch  40 Batch   10/26   train_loss = 1.224\n",
            "Epoch  40 Batch   15/26   train_loss = 1.191\n",
            "Epoch  40 Batch   20/26   train_loss = 1.195\n",
            "Epoch  40 Batch   25/26   train_loss = 1.243\n",
            "Epoch  41 Batch    4/26   train_loss = 1.252\n",
            "Epoch  41 Batch    9/26   train_loss = 1.219\n",
            "Epoch  41 Batch   14/26   train_loss = 1.197\n",
            "Epoch  41 Batch   19/26   train_loss = 1.238\n",
            "Epoch  41 Batch   24/26   train_loss = 1.139\n",
            "Epoch  42 Batch    3/26   train_loss = 1.222\n",
            "Epoch  42 Batch    8/26   train_loss = 1.184\n",
            "Epoch  42 Batch   13/26   train_loss = 1.139\n",
            "Epoch  42 Batch   18/26   train_loss = 1.179\n",
            "Epoch  42 Batch   23/26   train_loss = 1.133\n",
            "Epoch  43 Batch    2/26   train_loss = 1.117\n",
            "Epoch  43 Batch    7/26   train_loss = 1.210\n",
            "Epoch  43 Batch   12/26   train_loss = 1.181\n",
            "Epoch  43 Batch   17/26   train_loss = 1.138\n",
            "Epoch  43 Batch   22/26   train_loss = 1.115\n",
            "Epoch  44 Batch    1/26   train_loss = 1.211\n",
            "Epoch  44 Batch    6/26   train_loss = 1.174\n",
            "Epoch  44 Batch   11/26   train_loss = 1.161\n",
            "Epoch  44 Batch   16/26   train_loss = 1.157\n",
            "Epoch  44 Batch   21/26   train_loss = 1.131\n",
            "Epoch  45 Batch    0/26   train_loss = 1.086\n",
            "Epoch  45 Batch    5/26   train_loss = 1.183\n",
            "Epoch  45 Batch   10/26   train_loss = 1.152\n",
            "Epoch  45 Batch   15/26   train_loss = 1.083\n",
            "Epoch  45 Batch   20/26   train_loss = 1.085\n",
            "Epoch  45 Batch   25/26   train_loss = 1.123\n",
            "Epoch  46 Batch    4/26   train_loss = 1.144\n",
            "Epoch  46 Batch    9/26   train_loss = 1.147\n",
            "Epoch  46 Batch   14/26   train_loss = 1.111\n",
            "Epoch  46 Batch   19/26   train_loss = 1.130\n",
            "Epoch  46 Batch   24/26   train_loss = 1.083\n",
            "Epoch  47 Batch    3/26   train_loss = 1.119\n",
            "Epoch  47 Batch    8/26   train_loss = 1.093\n",
            "Epoch  47 Batch   13/26   train_loss = 1.053\n",
            "Epoch  47 Batch   18/26   train_loss = 1.086\n",
            "Epoch  47 Batch   23/26   train_loss = 1.048\n",
            "Epoch  48 Batch    2/26   train_loss = 1.089\n",
            "Epoch  48 Batch    7/26   train_loss = 1.104\n",
            "Epoch  48 Batch   12/26   train_loss = 1.110\n",
            "Epoch  48 Batch   17/26   train_loss = 1.049\n",
            "Epoch  48 Batch   22/26   train_loss = 1.068\n",
            "Epoch  49 Batch    1/26   train_loss = 1.140\n",
            "Epoch  49 Batch    6/26   train_loss = 1.098\n",
            "Epoch  49 Batch   11/26   train_loss = 1.098\n",
            "Epoch  49 Batch   16/26   train_loss = 1.105\n",
            "Epoch  49 Batch   21/26   train_loss = 1.016\n",
            "Epoch  50 Batch    0/26   train_loss = 0.994\n",
            "Epoch  50 Batch    5/26   train_loss = 1.084\n",
            "Epoch  50 Batch   10/26   train_loss = 1.102\n",
            "Epoch  50 Batch   15/26   train_loss = 1.034\n",
            "Epoch  50 Batch   20/26   train_loss = 1.023\n",
            "Epoch  50 Batch   25/26   train_loss = 1.041\n",
            "Epoch  51 Batch    4/26   train_loss = 1.041\n",
            "Epoch  51 Batch    9/26   train_loss = 1.064\n",
            "Epoch  51 Batch   14/26   train_loss = 1.016\n",
            "Epoch  51 Batch   19/26   train_loss = 1.053\n",
            "Epoch  51 Batch   24/26   train_loss = 1.007\n",
            "Epoch  52 Batch    3/26   train_loss = 1.031\n",
            "Epoch  52 Batch    8/26   train_loss = 1.026\n",
            "Epoch  52 Batch   13/26   train_loss = 0.984\n",
            "Epoch  52 Batch   18/26   train_loss = 1.029\n",
            "Epoch  52 Batch   23/26   train_loss = 1.004\n",
            "Epoch  53 Batch    2/26   train_loss = 1.027\n",
            "Epoch  53 Batch    7/26   train_loss = 0.996\n",
            "Epoch  53 Batch   12/26   train_loss = 0.993\n",
            "Epoch  53 Batch   17/26   train_loss = 1.015\n",
            "Epoch  53 Batch   22/26   train_loss = 0.959\n",
            "Epoch  54 Batch    1/26   train_loss = 1.050\n",
            "Epoch  54 Batch    6/26   train_loss = 1.028\n",
            "Epoch  54 Batch   11/26   train_loss = 1.010\n",
            "Epoch  54 Batch   16/26   train_loss = 1.011\n",
            "Epoch  54 Batch   21/26   train_loss = 0.989\n",
            "Epoch  55 Batch    0/26   train_loss = 0.924\n",
            "Epoch  55 Batch    5/26   train_loss = 1.014\n",
            "Epoch  55 Batch   10/26   train_loss = 1.036\n",
            "Epoch  55 Batch   15/26   train_loss = 0.964\n",
            "Epoch  55 Batch   20/26   train_loss = 0.939\n",
            "Epoch  55 Batch   25/26   train_loss = 0.990\n",
            "Epoch  56 Batch    4/26   train_loss = 0.967\n",
            "Epoch  56 Batch    9/26   train_loss = 1.020\n",
            "Epoch  56 Batch   14/26   train_loss = 1.012\n",
            "Epoch  56 Batch   19/26   train_loss = 0.967\n",
            "Epoch  56 Batch   24/26   train_loss = 0.941\n",
            "Epoch  57 Batch    3/26   train_loss = 0.971\n",
            "Epoch  57 Batch    8/26   train_loss = 0.955\n",
            "Epoch  57 Batch   13/26   train_loss = 0.933\n",
            "Epoch  57 Batch   18/26   train_loss = 0.973\n",
            "Epoch  57 Batch   23/26   train_loss = 0.934\n",
            "Epoch  58 Batch    2/26   train_loss = 0.941\n",
            "Epoch  58 Batch    7/26   train_loss = 0.991\n",
            "Epoch  58 Batch   12/26   train_loss = 0.939\n",
            "Epoch  58 Batch   17/26   train_loss = 0.920\n",
            "Epoch  58 Batch   22/26   train_loss = 0.909\n",
            "Epoch  59 Batch    1/26   train_loss = 0.983\n",
            "Epoch  59 Batch    6/26   train_loss = 0.948\n",
            "Epoch  59 Batch   11/26   train_loss = 0.980\n",
            "Epoch  59 Batch   16/26   train_loss = 0.946\n",
            "Epoch  59 Batch   21/26   train_loss = 0.917\n",
            "Epoch  60 Batch    0/26   train_loss = 0.882\n",
            "Epoch  60 Batch    5/26   train_loss = 0.967\n",
            "Epoch  60 Batch   10/26   train_loss = 0.956\n",
            "Epoch  60 Batch   15/26   train_loss = 0.917\n",
            "Epoch  60 Batch   20/26   train_loss = 0.908\n",
            "Epoch  60 Batch   25/26   train_loss = 0.917\n",
            "Epoch  61 Batch    4/26   train_loss = 0.955\n",
            "Epoch  61 Batch    9/26   train_loss = 0.951\n",
            "Epoch  61 Batch   14/26   train_loss = 0.897\n",
            "Epoch  61 Batch   19/26   train_loss = 0.932\n",
            "Epoch  61 Batch   24/26   train_loss = 0.896\n",
            "Epoch  62 Batch    3/26   train_loss = 0.955\n",
            "Epoch  62 Batch    8/26   train_loss = 0.918\n",
            "Epoch  62 Batch   13/26   train_loss = 0.880\n",
            "Epoch  62 Batch   18/26   train_loss = 0.923\n",
            "Epoch  62 Batch   23/26   train_loss = 0.905\n",
            "Epoch  63 Batch    2/26   train_loss = 0.938\n",
            "Epoch  63 Batch    7/26   train_loss = 0.935\n",
            "Epoch  63 Batch   12/26   train_loss = 0.911\n",
            "Epoch  63 Batch   17/26   train_loss = 0.916\n",
            "Epoch  63 Batch   22/26   train_loss = 0.917\n",
            "Epoch  64 Batch    1/26   train_loss = 0.957\n",
            "Epoch  64 Batch    6/26   train_loss = 0.923\n",
            "Epoch  64 Batch   11/26   train_loss = 0.953\n",
            "Epoch  64 Batch   16/26   train_loss = 0.920\n",
            "Epoch  64 Batch   21/26   train_loss = 0.934\n",
            "Epoch  65 Batch    0/26   train_loss = 0.904\n",
            "Epoch  65 Batch    5/26   train_loss = 0.939\n",
            "Epoch  65 Batch   10/26   train_loss = 0.945\n",
            "Epoch  65 Batch   15/26   train_loss = 0.865\n",
            "Epoch  65 Batch   20/26   train_loss = 0.893\n",
            "Epoch  65 Batch   25/26   train_loss = 0.910\n",
            "Epoch  66 Batch    4/26   train_loss = 0.941\n",
            "Epoch  66 Batch    9/26   train_loss = 0.996\n",
            "Epoch  66 Batch   14/26   train_loss = 0.927\n",
            "Epoch  66 Batch   19/26   train_loss = 0.896\n",
            "Epoch  66 Batch   24/26   train_loss = 0.923\n",
            "Epoch  67 Batch    3/26   train_loss = 0.919\n",
            "Epoch  67 Batch    8/26   train_loss = 0.908\n",
            "Epoch  67 Batch   13/26   train_loss = 0.885\n",
            "Epoch  67 Batch   18/26   train_loss = 0.903\n",
            "Epoch  67 Batch   23/26   train_loss = 0.892\n",
            "Epoch  68 Batch    2/26   train_loss = 0.903\n",
            "Epoch  68 Batch    7/26   train_loss = 0.935\n",
            "Epoch  68 Batch   12/26   train_loss = 0.915\n",
            "Epoch  68 Batch   17/26   train_loss = 0.921\n",
            "Epoch  68 Batch   22/26   train_loss = 0.896\n",
            "Epoch  69 Batch    1/26   train_loss = 0.950\n",
            "Epoch  69 Batch    6/26   train_loss = 0.926\n",
            "Epoch  69 Batch   11/26   train_loss = 0.960\n",
            "Epoch  69 Batch   16/26   train_loss = 0.907\n",
            "Epoch  69 Batch   21/26   train_loss = 0.890\n",
            "Epoch  70 Batch    0/26   train_loss = 0.852\n",
            "Epoch  70 Batch    5/26   train_loss = 0.915\n",
            "Epoch  70 Batch   10/26   train_loss = 0.920\n",
            "Epoch  70 Batch   15/26   train_loss = 0.872\n",
            "Epoch  70 Batch   20/26   train_loss = 0.861\n",
            "Epoch  70 Batch   25/26   train_loss = 0.906\n",
            "Epoch  71 Batch    4/26   train_loss = 0.960\n",
            "Epoch  71 Batch    9/26   train_loss = 0.919\n",
            "Epoch  71 Batch   14/26   train_loss = 0.923\n",
            "Epoch  71 Batch   19/26   train_loss = 0.921\n",
            "Epoch  71 Batch   24/26   train_loss = 0.895\n",
            "Epoch  72 Batch    3/26   train_loss = 0.963\n",
            "Epoch  72 Batch    8/26   train_loss = 0.930\n",
            "Epoch  72 Batch   13/26   train_loss = 0.879\n",
            "Epoch  72 Batch   18/26   train_loss = 0.918\n",
            "Epoch  72 Batch   23/26   train_loss = 0.910\n",
            "Epoch  73 Batch    2/26   train_loss = 0.877\n",
            "Epoch  73 Batch    7/26   train_loss = 0.908\n",
            "Epoch  73 Batch   12/26   train_loss = 0.892\n",
            "Epoch  73 Batch   17/26   train_loss = 0.885\n",
            "Epoch  73 Batch   22/26   train_loss = 0.895\n",
            "Epoch  74 Batch    1/26   train_loss = 0.951\n",
            "Epoch  74 Batch    6/26   train_loss = 0.903\n",
            "Epoch  74 Batch   11/26   train_loss = 0.956\n",
            "Epoch  74 Batch   16/26   train_loss = 0.893\n",
            "Epoch  74 Batch   21/26   train_loss = 0.920\n",
            "Epoch  75 Batch    0/26   train_loss = 0.825\n",
            "Epoch  75 Batch    5/26   train_loss = 0.921\n",
            "Epoch  75 Batch   10/26   train_loss = 0.887\n",
            "Epoch  75 Batch   15/26   train_loss = 0.910\n",
            "Epoch  75 Batch   20/26   train_loss = 0.897\n",
            "Epoch  75 Batch   25/26   train_loss = 0.889\n",
            "Epoch  76 Batch    4/26   train_loss = 0.928\n",
            "Epoch  76 Batch    9/26   train_loss = 0.892\n",
            "Epoch  76 Batch   14/26   train_loss = 0.886\n",
            "Epoch  76 Batch   19/26   train_loss = 0.880\n",
            "Epoch  76 Batch   24/26   train_loss = 0.883\n",
            "Epoch  77 Batch    3/26   train_loss = 0.896\n",
            "Epoch  77 Batch    8/26   train_loss = 0.886\n",
            "Epoch  77 Batch   13/26   train_loss = 0.841\n",
            "Epoch  77 Batch   18/26   train_loss = 0.891\n",
            "Epoch  77 Batch   23/26   train_loss = 0.831\n",
            "Epoch  78 Batch    2/26   train_loss = 0.890\n",
            "Epoch  78 Batch    7/26   train_loss = 0.892\n",
            "Epoch  78 Batch   12/26   train_loss = 0.865\n",
            "Epoch  78 Batch   17/26   train_loss = 0.887\n",
            "Epoch  78 Batch   22/26   train_loss = 0.898\n",
            "Epoch  79 Batch    1/26   train_loss = 0.906\n",
            "Epoch  79 Batch    6/26   train_loss = 0.876\n",
            "Epoch  79 Batch   11/26   train_loss = 0.912\n",
            "Epoch  79 Batch   16/26   train_loss = 0.870\n",
            "Epoch  79 Batch   21/26   train_loss = 0.873\n",
            "Epoch  80 Batch    0/26   train_loss = 0.833\n",
            "Epoch  80 Batch    5/26   train_loss = 0.846\n",
            "Epoch  80 Batch   10/26   train_loss = 0.872\n",
            "Epoch  80 Batch   15/26   train_loss = 0.833\n",
            "Epoch  80 Batch   20/26   train_loss = 0.841\n",
            "Epoch  80 Batch   25/26   train_loss = 0.866\n",
            "Epoch  81 Batch    4/26   train_loss = 0.892\n",
            "Epoch  81 Batch    9/26   train_loss = 0.877\n",
            "Epoch  81 Batch   14/26   train_loss = 0.875\n",
            "Epoch  81 Batch   19/26   train_loss = 0.866\n",
            "Epoch  81 Batch   24/26   train_loss = 0.864\n",
            "Epoch  82 Batch    3/26   train_loss = 0.888\n",
            "Epoch  82 Batch    8/26   train_loss = 0.852\n",
            "Epoch  82 Batch   13/26   train_loss = 0.838\n",
            "Epoch  82 Batch   18/26   train_loss = 0.874\n",
            "Epoch  82 Batch   23/26   train_loss = 0.860\n",
            "Epoch  83 Batch    2/26   train_loss = 0.904\n",
            "Epoch  83 Batch    7/26   train_loss = 0.879\n",
            "Epoch  83 Batch   12/26   train_loss = 0.841\n",
            "Epoch  83 Batch   17/26   train_loss = 0.858\n",
            "Epoch  83 Batch   22/26   train_loss = 0.866\n",
            "Epoch  84 Batch    1/26   train_loss = 0.903\n",
            "Epoch  84 Batch    6/26   train_loss = 0.877\n",
            "Epoch  84 Batch   11/26   train_loss = 0.885\n",
            "Epoch  84 Batch   16/26   train_loss = 0.867\n",
            "Epoch  84 Batch   21/26   train_loss = 0.900\n",
            "Epoch  85 Batch    0/26   train_loss = 0.789\n",
            "Epoch  85 Batch    5/26   train_loss = 0.865\n",
            "Epoch  85 Batch   10/26   train_loss = 0.849\n",
            "Epoch  85 Batch   15/26   train_loss = 0.803\n",
            "Epoch  85 Batch   20/26   train_loss = 0.868\n",
            "Epoch  85 Batch   25/26   train_loss = 0.881\n",
            "Epoch  86 Batch    4/26   train_loss = 0.873\n",
            "Epoch  86 Batch    9/26   train_loss = 0.902\n",
            "Epoch  86 Batch   14/26   train_loss = 0.867\n",
            "Epoch  86 Batch   19/26   train_loss = 0.873\n",
            "Epoch  86 Batch   24/26   train_loss = 0.837\n",
            "Epoch  87 Batch    3/26   train_loss = 0.821\n",
            "Epoch  87 Batch    8/26   train_loss = 0.830\n",
            "Epoch  87 Batch   13/26   train_loss = 0.819\n",
            "Epoch  87 Batch   18/26   train_loss = 0.818\n",
            "Epoch  87 Batch   23/26   train_loss = 0.809\n",
            "Epoch  88 Batch    2/26   train_loss = 0.835\n",
            "Epoch  88 Batch    7/26   train_loss = 0.862\n",
            "Epoch  88 Batch   12/26   train_loss = 0.818\n",
            "Epoch  88 Batch   17/26   train_loss = 0.841\n",
            "Epoch  88 Batch   22/26   train_loss = 0.811\n",
            "Epoch  89 Batch    1/26   train_loss = 0.860\n",
            "Epoch  89 Batch    6/26   train_loss = 0.844\n",
            "Epoch  89 Batch   11/26   train_loss = 0.865\n",
            "Epoch  89 Batch   16/26   train_loss = 0.839\n",
            "Epoch  89 Batch   21/26   train_loss = 0.840\n",
            "Epoch  90 Batch    0/26   train_loss = 0.779\n",
            "Epoch  90 Batch    5/26   train_loss = 0.834\n",
            "Epoch  90 Batch   10/26   train_loss = 0.822\n",
            "Epoch  90 Batch   15/26   train_loss = 0.801\n",
            "Epoch  90 Batch   20/26   train_loss = 0.802\n",
            "Epoch  90 Batch   25/26   train_loss = 0.848\n",
            "Epoch  91 Batch    4/26   train_loss = 0.838\n",
            "Epoch  91 Batch    9/26   train_loss = 0.864\n",
            "Epoch  91 Batch   14/26   train_loss = 0.851\n",
            "Epoch  91 Batch   19/26   train_loss = 0.829\n",
            "Epoch  91 Batch   24/26   train_loss = 0.797\n",
            "Epoch  92 Batch    3/26   train_loss = 0.810\n",
            "Epoch  92 Batch    8/26   train_loss = 0.823\n",
            "Epoch  92 Batch   13/26   train_loss = 0.809\n",
            "Epoch  92 Batch   18/26   train_loss = 0.809\n",
            "Epoch  92 Batch   23/26   train_loss = 0.782\n",
            "Epoch  93 Batch    2/26   train_loss = 0.810\n",
            "Epoch  93 Batch    7/26   train_loss = 0.789\n",
            "Epoch  93 Batch   12/26   train_loss = 0.794\n",
            "Epoch  93 Batch   17/26   train_loss = 0.816\n",
            "Epoch  93 Batch   22/26   train_loss = 0.806\n",
            "Epoch  94 Batch    1/26   train_loss = 0.836\n",
            "Epoch  94 Batch    6/26   train_loss = 0.842\n",
            "Epoch  94 Batch   11/26   train_loss = 0.835\n",
            "Epoch  94 Batch   16/26   train_loss = 0.827\n",
            "Epoch  94 Batch   21/26   train_loss = 0.807\n",
            "Epoch  95 Batch    0/26   train_loss = 0.775\n",
            "Epoch  95 Batch    5/26   train_loss = 0.842\n",
            "Epoch  95 Batch   10/26   train_loss = 0.843\n",
            "Epoch  95 Batch   15/26   train_loss = 0.814\n",
            "Epoch  95 Batch   20/26   train_loss = 0.812\n",
            "Epoch  95 Batch   25/26   train_loss = 0.796\n",
            "Epoch  96 Batch    4/26   train_loss = 0.851\n",
            "Epoch  96 Batch    9/26   train_loss = 0.841\n",
            "Epoch  96 Batch   14/26   train_loss = 0.838\n",
            "Epoch  96 Batch   19/26   train_loss = 0.819\n",
            "Epoch  96 Batch   24/26   train_loss = 0.806\n",
            "Epoch  97 Batch    3/26   train_loss = 0.799\n",
            "Epoch  97 Batch    8/26   train_loss = 0.797\n",
            "Epoch  97 Batch   13/26   train_loss = 0.781\n",
            "Epoch  97 Batch   18/26   train_loss = 0.827\n",
            "Epoch  97 Batch   23/26   train_loss = 0.791\n",
            "Epoch  98 Batch    2/26   train_loss = 0.820\n",
            "Epoch  98 Batch    7/26   train_loss = 0.826\n",
            "Epoch  98 Batch   12/26   train_loss = 0.802\n",
            "Epoch  98 Batch   17/26   train_loss = 0.823\n",
            "Epoch  98 Batch   22/26   train_loss = 0.797\n",
            "Epoch  99 Batch    1/26   train_loss = 0.867\n",
            "Epoch  99 Batch    6/26   train_loss = 0.809\n",
            "Epoch  99 Batch   11/26   train_loss = 0.814\n",
            "Epoch  99 Batch   16/26   train_loss = 0.815\n",
            "Epoch  99 Batch   21/26   train_loss = 0.800\n",
            "Model Trained and Saved\n"
          ],
          "name": "stdout"
        }
      ]
    },
    {
      "metadata": {
        "id": "JsZeYYSaiqG7",
        "colab_type": "text"
      },
      "cell_type": "markdown",
      "source": [
        "## Save Parameters\n",
        "Save `seq_length` and `save_dir` for generating a new TV script."
      ]
    },
    {
      "metadata": {
        "id": "g9QEdT82iqG-",
        "colab_type": "code",
        "colab": {}
      },
      "cell_type": "code",
      "source": [
        "\"\"\"\n",
        "DON'T MODIFY ANYTHING IN THIS CELL\n",
        "\"\"\"\n",
        "# Save parameters for checkpoint\n",
        "helper.save_params((seq_length, save_dir))"
      ],
      "execution_count": 0,
      "outputs": []
    },
    {
      "metadata": {
        "id": "SybxWC1diqHK",
        "colab_type": "text"
      },
      "cell_type": "markdown",
      "source": [
        "# Checkpoint"
      ]
    },
    {
      "metadata": {
        "id": "YT_LS1FqiqHO",
        "colab_type": "code",
        "colab": {}
      },
      "cell_type": "code",
      "source": [
        "\"\"\"\n",
        "DON'T MODIFY ANYTHING IN THIS CELL\n",
        "\"\"\"\n",
        "import tensorflow as tf\n",
        "import numpy as np\n",
        "import helper\n",
        "import problem_unittests as tests\n",
        "\n",
        "_, vocab_to_int, int_to_vocab, token_dict = helper.load_preprocess()\n",
        "seq_length, load_dir = helper.load_params()"
      ],
      "execution_count": 0,
      "outputs": []
    },
    {
      "metadata": {
        "id": "zkPMa3WDiqHX",
        "colab_type": "text"
      },
      "cell_type": "markdown",
      "source": [
        "## Implement Generate Functions\n",
        "### Get Tensors\n",
        "Get tensors from `loaded_graph` using the function [`get_tensor_by_name()`](https://www.tensorflow.org/api_docs/python/tf/Graph#get_tensor_by_name).  Get the tensors using the following names:\n",
        "- \"input:0\"\n",
        "- \"initial_state:0\"\n",
        "- \"final_state:0\"\n",
        "- \"probs:0\"\n",
        "\n",
        "Return the tensors in the following tuple `(InputTensor, InitialStateTensor, FinalStateTensor, ProbsTensor)` "
      ]
    },
    {
      "metadata": {
        "id": "HflxMGqqiqHa",
        "colab_type": "code",
        "colab": {
          "base_uri": "https://localhost:8080/",
          "height": 34
        },
        "outputId": "dc8f6692-eae6-4f62-c56c-da5fb07dc68c"
      },
      "cell_type": "code",
      "source": [
        "def get_tensors(loaded_graph):\n",
        "    \"\"\"\n",
        "    Get input, initial state, final state, and probabilities tensor from <loaded_graph>\n",
        "    :param loaded_graph: TensorFlow graph loaded from file\n",
        "    :return: Tuple (InputTensor, InitialStateTensor, FinalStateTensor, ProbsTensor)\n",
        "    \"\"\"\n",
        "    # TODO: Implement Function\n",
        "    input_tensor = loaded_graph.get_tensor_by_name(\"input:0\")\n",
        "    initial_state_tensor = loaded_graph.get_tensor_by_name(\"initial_state:0\")\n",
        "    final_state_tensor = loaded_graph.get_tensor_by_name(\"final_state:0\")\n",
        "    prob_tensor = loaded_graph.get_tensor_by_name(\"probs:0\")\n",
        "\n",
        "    return input_tensor, initial_state_tensor, final_state_tensor, prob_tensor\n",
        "\n",
        "\"\"\"\n",
        "DON'T MODIFY ANYTHING IN THIS CELL THAT IS BELOW THIS LINE\n",
        "\"\"\"\n",
        "tests.test_get_tensors(get_tensors)"
      ],
      "execution_count": 29,
      "outputs": [
        {
          "output_type": "stream",
          "text": [
            "Tests Passed\n"
          ],
          "name": "stdout"
        }
      ]
    },
    {
      "metadata": {
        "id": "IKcJTwbkiqHj",
        "colab_type": "text"
      },
      "cell_type": "markdown",
      "source": [
        "### Choose Word\n",
        "Implement the `pick_word()` function to select the next word using `probabilities`."
      ]
    },
    {
      "metadata": {
        "id": "MZk5k_rtiqHm",
        "colab_type": "code",
        "colab": {
          "base_uri": "https://localhost:8080/",
          "height": 34
        },
        "outputId": "3e2bb445-cc9b-4236-8595-95a5d4aca5f6"
      },
      "cell_type": "code",
      "source": [
        "def pick_word(probabilities, int_to_vocab):\n",
        "    \"\"\"\n",
        "    Pick the next word in the generated text\n",
        "    :param probabilities: Probabilites of the next word\n",
        "    :param int_to_vocab: Dictionary of word ids as the keys and words as the values\n",
        "    :return: String of the predicted word\n",
        "    \"\"\"\n",
        "    # TODO: Implement Function\n",
        "    return np.random.choice(list(int_to_vocab.values()),p=probabilities)\n",
        "\n",
        "\n",
        "\"\"\"\n",
        "DON'T MODIFY ANYTHING IN THIS CELL THAT IS BELOW THIS LINE\n",
        "\"\"\"\n",
        "tests.test_pick_word(pick_word)"
      ],
      "execution_count": 30,
      "outputs": [
        {
          "output_type": "stream",
          "text": [
            "Tests Passed\n"
          ],
          "name": "stdout"
        }
      ]
    },
    {
      "metadata": {
        "id": "JaIvhluyiqHx",
        "colab_type": "text"
      },
      "cell_type": "markdown",
      "source": [
        "## Generate TV Script\n",
        "This will generate the TV script for you.  Set `gen_length` to the length of TV script you want to generate."
      ]
    },
    {
      "metadata": {
        "id": "ia6oE7cLiqH0",
        "colab_type": "code",
        "colab": {
          "base_uri": "https://localhost:8080/",
          "height": 221
        },
        "outputId": "52e7fba2-fe48-425d-83a8-f9da233e6a7d"
      },
      "cell_type": "code",
      "source": [
        "gen_length = 200\n",
        "# homer_simpson, moe_szyslak, or Barney_Gumble\n",
        "prime_word = 'moe_szyslak'\n",
        "\n",
        "\"\"\"\n",
        "DON'T MODIFY ANYTHING IN THIS CELL THAT IS BELOW THIS LINE\n",
        "\"\"\"\n",
        "loaded_graph = tf.Graph()\n",
        "with tf.Session(graph=loaded_graph) as sess:\n",
        "    # Load saved model\n",
        "    loader = tf.train.import_meta_graph(load_dir + '.meta')\n",
        "    loader.restore(sess, load_dir)\n",
        "\n",
        "    # Get Tensors from loaded model\n",
        "    input_text, initial_state, final_state, probs = get_tensors(loaded_graph)\n",
        "\n",
        "    # Sentences generation setup\n",
        "    gen_sentences = [prime_word + ':']\n",
        "    prev_state = sess.run(initial_state, {input_text: np.array([[1]])})\n",
        "\n",
        "    # Generate sentences\n",
        "    for n in range(gen_length):\n",
        "        # Dynamic Input\n",
        "        dyn_input = [[vocab_to_int[word] for word in gen_sentences[-seq_length:]]]\n",
        "        dyn_seq_length = len(dyn_input[0])\n",
        "\n",
        "        # Get Prediction\n",
        "        probabilities, prev_state = sess.run(\n",
        "            [probs, final_state],\n",
        "            {input_text: dyn_input, initial_state: prev_state})\n",
        "        \n",
        "        pred_word = pick_word(probabilities[0][dyn_seq_length-1], int_to_vocab)\n",
        "\n",
        "        gen_sentences.append(pred_word)\n",
        "    \n",
        "    # Remove tokens\n",
        "    tv_script = ' '.join(gen_sentences)\n",
        "    for key, token in token_dict.items():\n",
        "        ending = ' ' if key in ['\\n', '(', '\"'] else ''\n",
        "        tv_script = tv_script.replace(' ' + token.lower(), key)\n",
        "    tv_script = tv_script.replace('\\n ', '\\n')\n",
        "    tv_script = tv_script.replace('( ', '(')\n",
        "        \n",
        "    print(tv_script)"
      ],
      "execution_count": 31,
      "outputs": [
        {
          "output_type": "stream",
          "text": [
            "INFO:tensorflow:Restoring parameters from ./save\n",
            "moe_szyslak:(on, uh,\" and let's give me any a new kisser.\n",
            "carl_carlson: all right, dad.\n",
            "homer_simpson: i've never told it till you got that.\n",
            "carl_carlson:(to self) stop! / yeah. / yeah that's right. and i heard. all how you been in. na na na na / hey hey! hey! don't believe that was me!\n",
            "moe_szyslak:(excited) barney, there's gotta do something in my bar in the cries / i wouldn't. you were sorry, and i'm gonna carve my name on my face.\n",
            "homer_simpson:(pointed) here's one of fat.\n",
            "ned_flanders: i don't know what these winnings. i'm gonna be too late! go off me, her first enabling.\n",
            "bar_rag: the calling /(attack yell)\n",
            "moe_szyslak: ah, wait a minute. ooh! ooh! ow!\n",
            "homer_simpson: i'm a man. i gotta be pickin' up here we need to spend it.\n",
            "lenny_leonard:(awkward chuckle) and about your right off the last new face?\n"
          ],
          "name": "stdout"
        }
      ]
    },
    {
      "metadata": {
        "id": "NkPVKfvKiqID",
        "colab_type": "text"
      },
      "cell_type": "markdown",
      "source": [
        "# The TV Script is Nonsensical\n",
        "It's ok if the TV script doesn't make any sense.  We trained on less than a megabyte of text.  In order to get good results, you'll have to use a smaller vocabulary or get more data.  Luckily there's more data!  As we mentioned in the beggining of this project, this is a subset of [another dataset](https://www.kaggle.com/wcukierski/the-simpsons-by-the-data).  We didn't have you train on all the data, because that would take too long.  However, you are free to train your neural network on all the data.  After you complete the project, of course.\n",
        "# Submitting This Project\n",
        "When submitting this project, make sure to run all the cells before saving the notebook. Save the notebook file as \"dlnd_tv_script_generation.ipynb\" and save it as a HTML file under \"File\" -> \"Download as\". Include the \"helper.py\" and \"problem_unittests.py\" files in your submission."
      ]
    }
  ]
}